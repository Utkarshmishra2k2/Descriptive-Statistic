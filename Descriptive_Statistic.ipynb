{
  "nbformat": 4,
  "nbformat_minor": 0,
  "metadata": {
    "colab": {
      "provenance": [],
      "include_colab_link": true
    },
    "kernelspec": {
      "name": "python3",
      "display_name": "Python 3"
    },
    "language_info": {
      "name": "python"
    },
    "gpuClass": "standard"
  },
  "cells": [
    {
      "cell_type": "markdown",
      "metadata": {
        "id": "view-in-github",
        "colab_type": "text"
      },
      "source": [
        "<a href=\"https://colab.research.google.com/github/Utkarshmishra2k2/Descriptive-Statistic/blob/main/Descriptive_Statistic.ipynb\" target=\"_parent\"><img src=\"https://colab.research.google.com/assets/colab-badge.svg\" alt=\"Open In Colab\"/></a>"
      ]
    },
    {
      "cell_type": "markdown",
      "source": [
        "**Table of Contents:**\n",
        "\n",
        "\n",
        "1. Introduction to descriptive statistics\n",
        "2. Dataset description\n",
        "3. Import dataset & library\n",
        "4. Exploratory data analysis\n",
        "4. Measures of central tendency\n",
        "    *  Mean\n",
        "    *  Median\n",
        "    *  Mode\n",
        "5. Measures of dispersion\n",
        "    *  Variance\n",
        "    *  Standard deviation\n",
        "    *  Quartile's\n",
        "    *  IQR (Interquartile range)\n",
        "6. Measures of shape of distribution\n",
        "    *  Skewness\n",
        "    *  Kurtosis"
      ],
      "metadata": {
        "id": "sQzqCPPB1SgV"
      }
    },
    {
      "cell_type": "markdown",
      "source": [
        "**Introduction to descriptive statistics**\n",
        "\n",
        "Descriptive statistics are numerical representations of data that are used to describe and summarise it. They are used to characterise the fundamental characteristics of the data under investigation. They provide basic summary measurements that provide a high-level overview of the dataset. Measurements of central tendency and metrics of variability or dispersion are popular summary measures used to summarise a data collection.\n",
        "\n",
        "The mean, median, and mode are examples of central tendency measures. These measurements provide a single data point to summarise a particular data collection. These measurements describe the distribution's centre location for a given data set. The frequency of each data point in the distribution is examined and described using the mean, median, or mode. They offer the data set's average. They might represent the full population or a subset of the population.\n",
        "\n",
        "The variance or standard deviation, coefficient of variation, minimum and maximum values, IQR (Interquartile Range), skewness, and kurtosis' are all measures of variability or dispersion. These measurements assist us in determining how wide out a dataset's distribution is. As a result, they define the form of the data collection."
      ],
      "metadata": {
        "id": "OR_bPM0i3rX9"
      }
    },
    {
      "cell_type": "markdown",
      "source": [
        "**Dataset description:**\n",
        "\n",
        "I have used the Iris dataset for this Article. I have loaded this dataset from the Sklearn Datasets. This data set can be more learn from the following url –\n",
        "\n",
        "https://scikit-learn.org/stable/auto_examples/datasets/plot_iris_dataset.html\n",
        "\n",
        "The rows being the samples and the columns being: Sepal Length, Sepal Width, Petal Length and Petal Width."
      ],
      "metadata": {
        "id": "A6NmpFpw4MuF"
      }
    },
    {
      "cell_type": "markdown",
      "source": [
        "**Importing dataset & library.:**"
      ],
      "metadata": {
        "id": "MDSQtXmh5CkE"
      }
    },
    {
      "cell_type": "code",
      "execution_count": 1,
      "metadata": {
        "id": "xSa_Jh92Bxu8"
      },
      "outputs": [],
      "source": [
        "import pandas as pd\n",
        "import numpy as np\n",
        "import matplotlib.pyplot as plt\n",
        "import seaborn as sns\n",
        "%matplotlib inline\n",
        "from sklearn.datasets import load_iris"
      ]
    },
    {
      "cell_type": "code",
      "source": [
        "data_01=pd.DataFrame(load_iris().data, columns = load_iris().feature_names)"
      ],
      "metadata": {
        "id": "qCmDQw_FGo_y"
      },
      "execution_count": 2,
      "outputs": []
    },
    {
      "cell_type": "markdown",
      "source": [
        "**Exploratory data analysis:**"
      ],
      "metadata": {
        "id": "Iex7YEeS5x5F"
      }
    },
    {
      "cell_type": "code",
      "source": [
        "data_01.shape"
      ],
      "metadata": {
        "id": "_i9qo_VdCIfm",
        "colab": {
          "base_uri": "https://localhost:8080/"
        },
        "outputId": "d2f1758f-ad80-449a-f138-4c23eb93d7dd"
      },
      "execution_count": 3,
      "outputs": [
        {
          "output_type": "execute_result",
          "data": {
            "text/plain": [
              "(150, 4)"
            ]
          },
          "metadata": {},
          "execution_count": 3
        }
      ]
    },
    {
      "cell_type": "markdown",
      "source": [
        "We can see that there are 150 instances and 4 variables in the data set"
      ],
      "metadata": {
        "id": "eghlNx9m54vN"
      }
    },
    {
      "cell_type": "code",
      "source": [
        "data_01.head()"
      ],
      "metadata": {
        "id": "Tm-Gfn0RCLsG",
        "colab": {
          "base_uri": "https://localhost:8080/",
          "height": 206
        },
        "outputId": "1b08eaaf-deed-421f-e560-0e0e511952a0"
      },
      "execution_count": 4,
      "outputs": [
        {
          "output_type": "execute_result",
          "data": {
            "text/plain": [
              "   sepal length (cm)  sepal width (cm)  petal length (cm)  petal width (cm)\n",
              "0                5.1               3.5                1.4               0.2\n",
              "1                4.9               3.0                1.4               0.2\n",
              "2                4.7               3.2                1.3               0.2\n",
              "3                4.6               3.1                1.5               0.2\n",
              "4                5.0               3.6                1.4               0.2"
            ],
            "text/html": [
              "\n",
              "  <div id=\"df-95fcf2a3-57e3-4724-b1b4-b5ed228dc12e\">\n",
              "    <div class=\"colab-df-container\">\n",
              "      <div>\n",
              "<style scoped>\n",
              "    .dataframe tbody tr th:only-of-type {\n",
              "        vertical-align: middle;\n",
              "    }\n",
              "\n",
              "    .dataframe tbody tr th {\n",
              "        vertical-align: top;\n",
              "    }\n",
              "\n",
              "    .dataframe thead th {\n",
              "        text-align: right;\n",
              "    }\n",
              "</style>\n",
              "<table border=\"1\" class=\"dataframe\">\n",
              "  <thead>\n",
              "    <tr style=\"text-align: right;\">\n",
              "      <th></th>\n",
              "      <th>sepal length (cm)</th>\n",
              "      <th>sepal width (cm)</th>\n",
              "      <th>petal length (cm)</th>\n",
              "      <th>petal width (cm)</th>\n",
              "    </tr>\n",
              "  </thead>\n",
              "  <tbody>\n",
              "    <tr>\n",
              "      <th>0</th>\n",
              "      <td>5.1</td>\n",
              "      <td>3.5</td>\n",
              "      <td>1.4</td>\n",
              "      <td>0.2</td>\n",
              "    </tr>\n",
              "    <tr>\n",
              "      <th>1</th>\n",
              "      <td>4.9</td>\n",
              "      <td>3.0</td>\n",
              "      <td>1.4</td>\n",
              "      <td>0.2</td>\n",
              "    </tr>\n",
              "    <tr>\n",
              "      <th>2</th>\n",
              "      <td>4.7</td>\n",
              "      <td>3.2</td>\n",
              "      <td>1.3</td>\n",
              "      <td>0.2</td>\n",
              "    </tr>\n",
              "    <tr>\n",
              "      <th>3</th>\n",
              "      <td>4.6</td>\n",
              "      <td>3.1</td>\n",
              "      <td>1.5</td>\n",
              "      <td>0.2</td>\n",
              "    </tr>\n",
              "    <tr>\n",
              "      <th>4</th>\n",
              "      <td>5.0</td>\n",
              "      <td>3.6</td>\n",
              "      <td>1.4</td>\n",
              "      <td>0.2</td>\n",
              "    </tr>\n",
              "  </tbody>\n",
              "</table>\n",
              "</div>\n",
              "      <button class=\"colab-df-convert\" onclick=\"convertToInteractive('df-95fcf2a3-57e3-4724-b1b4-b5ed228dc12e')\"\n",
              "              title=\"Convert this dataframe to an interactive table.\"\n",
              "              style=\"display:none;\">\n",
              "        \n",
              "  <svg xmlns=\"http://www.w3.org/2000/svg\" height=\"24px\"viewBox=\"0 0 24 24\"\n",
              "       width=\"24px\">\n",
              "    <path d=\"M0 0h24v24H0V0z\" fill=\"none\"/>\n",
              "    <path d=\"M18.56 5.44l.94 2.06.94-2.06 2.06-.94-2.06-.94-.94-2.06-.94 2.06-2.06.94zm-11 1L8.5 8.5l.94-2.06 2.06-.94-2.06-.94L8.5 2.5l-.94 2.06-2.06.94zm10 10l.94 2.06.94-2.06 2.06-.94-2.06-.94-.94-2.06-.94 2.06-2.06.94z\"/><path d=\"M17.41 7.96l-1.37-1.37c-.4-.4-.92-.59-1.43-.59-.52 0-1.04.2-1.43.59L10.3 9.45l-7.72 7.72c-.78.78-.78 2.05 0 2.83L4 21.41c.39.39.9.59 1.41.59.51 0 1.02-.2 1.41-.59l7.78-7.78 2.81-2.81c.8-.78.8-2.07 0-2.86zM5.41 20L4 18.59l7.72-7.72 1.47 1.35L5.41 20z\"/>\n",
              "  </svg>\n",
              "      </button>\n",
              "      \n",
              "  <style>\n",
              "    .colab-df-container {\n",
              "      display:flex;\n",
              "      flex-wrap:wrap;\n",
              "      gap: 12px;\n",
              "    }\n",
              "\n",
              "    .colab-df-convert {\n",
              "      background-color: #E8F0FE;\n",
              "      border: none;\n",
              "      border-radius: 50%;\n",
              "      cursor: pointer;\n",
              "      display: none;\n",
              "      fill: #1967D2;\n",
              "      height: 32px;\n",
              "      padding: 0 0 0 0;\n",
              "      width: 32px;\n",
              "    }\n",
              "\n",
              "    .colab-df-convert:hover {\n",
              "      background-color: #E2EBFA;\n",
              "      box-shadow: 0px 1px 2px rgba(60, 64, 67, 0.3), 0px 1px 3px 1px rgba(60, 64, 67, 0.15);\n",
              "      fill: #174EA6;\n",
              "    }\n",
              "\n",
              "    [theme=dark] .colab-df-convert {\n",
              "      background-color: #3B4455;\n",
              "      fill: #D2E3FC;\n",
              "    }\n",
              "\n",
              "    [theme=dark] .colab-df-convert:hover {\n",
              "      background-color: #434B5C;\n",
              "      box-shadow: 0px 1px 3px 1px rgba(0, 0, 0, 0.15);\n",
              "      filter: drop-shadow(0px 1px 2px rgba(0, 0, 0, 0.3));\n",
              "      fill: #FFFFFF;\n",
              "    }\n",
              "  </style>\n",
              "\n",
              "      <script>\n",
              "        const buttonEl =\n",
              "          document.querySelector('#df-95fcf2a3-57e3-4724-b1b4-b5ed228dc12e button.colab-df-convert');\n",
              "        buttonEl.style.display =\n",
              "          google.colab.kernel.accessAllowed ? 'block' : 'none';\n",
              "\n",
              "        async function convertToInteractive(key) {\n",
              "          const element = document.querySelector('#df-95fcf2a3-57e3-4724-b1b4-b5ed228dc12e');\n",
              "          const dataTable =\n",
              "            await google.colab.kernel.invokeFunction('convertToInteractive',\n",
              "                                                     [key], {});\n",
              "          if (!dataTable) return;\n",
              "\n",
              "          const docLinkHtml = 'Like what you see? Visit the ' +\n",
              "            '<a target=\"_blank\" href=https://colab.research.google.com/notebooks/data_table.ipynb>data table notebook</a>'\n",
              "            + ' to learn more about interactive tables.';\n",
              "          element.innerHTML = '';\n",
              "          dataTable['output_type'] = 'display_data';\n",
              "          await google.colab.output.renderOutput(dataTable, element);\n",
              "          const docLink = document.createElement('div');\n",
              "          docLink.innerHTML = docLinkHtml;\n",
              "          element.appendChild(docLink);\n",
              "        }\n",
              "      </script>\n",
              "    </div>\n",
              "  </div>\n",
              "  "
            ]
          },
          "metadata": {},
          "execution_count": 4
        }
      ]
    },
    {
      "cell_type": "code",
      "source": [
        "data_01.info()"
      ],
      "metadata": {
        "id": "uLnS-s95COSH",
        "colab": {
          "base_uri": "https://localhost:8080/"
        },
        "outputId": "36aac3f0-67eb-4879-e369-97d4df69eb79"
      },
      "execution_count": 5,
      "outputs": [
        {
          "output_type": "stream",
          "name": "stdout",
          "text": [
            "<class 'pandas.core.frame.DataFrame'>\n",
            "RangeIndex: 150 entries, 0 to 149\n",
            "Data columns (total 4 columns):\n",
            " #   Column             Non-Null Count  Dtype  \n",
            "---  ------             --------------  -----  \n",
            " 0   sepal length (cm)  150 non-null    float64\n",
            " 1   sepal width (cm)   150 non-null    float64\n",
            " 2   petal length (cm)  150 non-null    float64\n",
            " 3   petal width (cm)   150 non-null    float64\n",
            "dtypes: float64(4)\n",
            "memory usage: 4.8 KB\n"
          ]
        }
      ]
    },
    {
      "cell_type": "markdown",
      "source": [
        "We can see that the sepal length (cm),sepal width (cm), petal length (cm) and petal width (cm) variables have float64 data types as expected."
      ],
      "metadata": {
        "id": "K-UsUsW06DqL"
      }
    },
    {
      "cell_type": "code",
      "source": [
        "data_01.isnull().sum()"
      ],
      "metadata": {
        "id": "gMvr4O26CQ-d",
        "colab": {
          "base_uri": "https://localhost:8080/"
        },
        "outputId": "b7728523-f80f-4517-8e2b-a77cecdd383c"
      },
      "execution_count": 6,
      "outputs": [
        {
          "output_type": "execute_result",
          "data": {
            "text/plain": [
              "sepal length (cm)    0\n",
              "sepal width (cm)     0\n",
              "petal length (cm)    0\n",
              "petal width (cm)     0\n",
              "dtype: int64"
            ]
          },
          "metadata": {},
          "execution_count": 6
        }
      ]
    },
    {
      "cell_type": "markdown",
      "source": [
        "The above command shows that there are no missing values in the dataset."
      ],
      "metadata": {
        "id": "atzJfqHk6glu"
      }
    },
    {
      "cell_type": "code",
      "source": [
        "data_01.describe(include='all')"
      ],
      "metadata": {
        "id": "_uFHPpz6CYMe",
        "colab": {
          "base_uri": "https://localhost:8080/",
          "height": 300
        },
        "outputId": "d827e8ee-30e9-4e9d-9dce-25e3ae2c7dcd"
      },
      "execution_count": 7,
      "outputs": [
        {
          "output_type": "execute_result",
          "data": {
            "text/plain": [
              "       sepal length (cm)  sepal width (cm)  petal length (cm)  \\\n",
              "count         150.000000        150.000000         150.000000   \n",
              "mean            5.843333          3.057333           3.758000   \n",
              "std             0.828066          0.435866           1.765298   \n",
              "min             4.300000          2.000000           1.000000   \n",
              "25%             5.100000          2.800000           1.600000   \n",
              "50%             5.800000          3.000000           4.350000   \n",
              "75%             6.400000          3.300000           5.100000   \n",
              "max             7.900000          4.400000           6.900000   \n",
              "\n",
              "       petal width (cm)  \n",
              "count        150.000000  \n",
              "mean           1.199333  \n",
              "std            0.762238  \n",
              "min            0.100000  \n",
              "25%            0.300000  \n",
              "50%            1.300000  \n",
              "75%            1.800000  \n",
              "max            2.500000  "
            ],
            "text/html": [
              "\n",
              "  <div id=\"df-d006bc01-17e5-4c3a-b36a-d61bd0dc4552\">\n",
              "    <div class=\"colab-df-container\">\n",
              "      <div>\n",
              "<style scoped>\n",
              "    .dataframe tbody tr th:only-of-type {\n",
              "        vertical-align: middle;\n",
              "    }\n",
              "\n",
              "    .dataframe tbody tr th {\n",
              "        vertical-align: top;\n",
              "    }\n",
              "\n",
              "    .dataframe thead th {\n",
              "        text-align: right;\n",
              "    }\n",
              "</style>\n",
              "<table border=\"1\" class=\"dataframe\">\n",
              "  <thead>\n",
              "    <tr style=\"text-align: right;\">\n",
              "      <th></th>\n",
              "      <th>sepal length (cm)</th>\n",
              "      <th>sepal width (cm)</th>\n",
              "      <th>petal length (cm)</th>\n",
              "      <th>petal width (cm)</th>\n",
              "    </tr>\n",
              "  </thead>\n",
              "  <tbody>\n",
              "    <tr>\n",
              "      <th>count</th>\n",
              "      <td>150.000000</td>\n",
              "      <td>150.000000</td>\n",
              "      <td>150.000000</td>\n",
              "      <td>150.000000</td>\n",
              "    </tr>\n",
              "    <tr>\n",
              "      <th>mean</th>\n",
              "      <td>5.843333</td>\n",
              "      <td>3.057333</td>\n",
              "      <td>3.758000</td>\n",
              "      <td>1.199333</td>\n",
              "    </tr>\n",
              "    <tr>\n",
              "      <th>std</th>\n",
              "      <td>0.828066</td>\n",
              "      <td>0.435866</td>\n",
              "      <td>1.765298</td>\n",
              "      <td>0.762238</td>\n",
              "    </tr>\n",
              "    <tr>\n",
              "      <th>min</th>\n",
              "      <td>4.300000</td>\n",
              "      <td>2.000000</td>\n",
              "      <td>1.000000</td>\n",
              "      <td>0.100000</td>\n",
              "    </tr>\n",
              "    <tr>\n",
              "      <th>25%</th>\n",
              "      <td>5.100000</td>\n",
              "      <td>2.800000</td>\n",
              "      <td>1.600000</td>\n",
              "      <td>0.300000</td>\n",
              "    </tr>\n",
              "    <tr>\n",
              "      <th>50%</th>\n",
              "      <td>5.800000</td>\n",
              "      <td>3.000000</td>\n",
              "      <td>4.350000</td>\n",
              "      <td>1.300000</td>\n",
              "    </tr>\n",
              "    <tr>\n",
              "      <th>75%</th>\n",
              "      <td>6.400000</td>\n",
              "      <td>3.300000</td>\n",
              "      <td>5.100000</td>\n",
              "      <td>1.800000</td>\n",
              "    </tr>\n",
              "    <tr>\n",
              "      <th>max</th>\n",
              "      <td>7.900000</td>\n",
              "      <td>4.400000</td>\n",
              "      <td>6.900000</td>\n",
              "      <td>2.500000</td>\n",
              "    </tr>\n",
              "  </tbody>\n",
              "</table>\n",
              "</div>\n",
              "      <button class=\"colab-df-convert\" onclick=\"convertToInteractive('df-d006bc01-17e5-4c3a-b36a-d61bd0dc4552')\"\n",
              "              title=\"Convert this dataframe to an interactive table.\"\n",
              "              style=\"display:none;\">\n",
              "        \n",
              "  <svg xmlns=\"http://www.w3.org/2000/svg\" height=\"24px\"viewBox=\"0 0 24 24\"\n",
              "       width=\"24px\">\n",
              "    <path d=\"M0 0h24v24H0V0z\" fill=\"none\"/>\n",
              "    <path d=\"M18.56 5.44l.94 2.06.94-2.06 2.06-.94-2.06-.94-.94-2.06-.94 2.06-2.06.94zm-11 1L8.5 8.5l.94-2.06 2.06-.94-2.06-.94L8.5 2.5l-.94 2.06-2.06.94zm10 10l.94 2.06.94-2.06 2.06-.94-2.06-.94-.94-2.06-.94 2.06-2.06.94z\"/><path d=\"M17.41 7.96l-1.37-1.37c-.4-.4-.92-.59-1.43-.59-.52 0-1.04.2-1.43.59L10.3 9.45l-7.72 7.72c-.78.78-.78 2.05 0 2.83L4 21.41c.39.39.9.59 1.41.59.51 0 1.02-.2 1.41-.59l7.78-7.78 2.81-2.81c.8-.78.8-2.07 0-2.86zM5.41 20L4 18.59l7.72-7.72 1.47 1.35L5.41 20z\"/>\n",
              "  </svg>\n",
              "      </button>\n",
              "      \n",
              "  <style>\n",
              "    .colab-df-container {\n",
              "      display:flex;\n",
              "      flex-wrap:wrap;\n",
              "      gap: 12px;\n",
              "    }\n",
              "\n",
              "    .colab-df-convert {\n",
              "      background-color: #E8F0FE;\n",
              "      border: none;\n",
              "      border-radius: 50%;\n",
              "      cursor: pointer;\n",
              "      display: none;\n",
              "      fill: #1967D2;\n",
              "      height: 32px;\n",
              "      padding: 0 0 0 0;\n",
              "      width: 32px;\n",
              "    }\n",
              "\n",
              "    .colab-df-convert:hover {\n",
              "      background-color: #E2EBFA;\n",
              "      box-shadow: 0px 1px 2px rgba(60, 64, 67, 0.3), 0px 1px 3px 1px rgba(60, 64, 67, 0.15);\n",
              "      fill: #174EA6;\n",
              "    }\n",
              "\n",
              "    [theme=dark] .colab-df-convert {\n",
              "      background-color: #3B4455;\n",
              "      fill: #D2E3FC;\n",
              "    }\n",
              "\n",
              "    [theme=dark] .colab-df-convert:hover {\n",
              "      background-color: #434B5C;\n",
              "      box-shadow: 0px 1px 3px 1px rgba(0, 0, 0, 0.15);\n",
              "      filter: drop-shadow(0px 1px 2px rgba(0, 0, 0, 0.3));\n",
              "      fill: #FFFFFF;\n",
              "    }\n",
              "  </style>\n",
              "\n",
              "      <script>\n",
              "        const buttonEl =\n",
              "          document.querySelector('#df-d006bc01-17e5-4c3a-b36a-d61bd0dc4552 button.colab-df-convert');\n",
              "        buttonEl.style.display =\n",
              "          google.colab.kernel.accessAllowed ? 'block' : 'none';\n",
              "\n",
              "        async function convertToInteractive(key) {\n",
              "          const element = document.querySelector('#df-d006bc01-17e5-4c3a-b36a-d61bd0dc4552');\n",
              "          const dataTable =\n",
              "            await google.colab.kernel.invokeFunction('convertToInteractive',\n",
              "                                                     [key], {});\n",
              "          if (!dataTable) return;\n",
              "\n",
              "          const docLinkHtml = 'Like what you see? Visit the ' +\n",
              "            '<a target=\"_blank\" href=https://colab.research.google.com/notebooks/data_table.ipynb>data table notebook</a>'\n",
              "            + ' to learn more about interactive tables.';\n",
              "          element.innerHTML = '';\n",
              "          dataTable['output_type'] = 'display_data';\n",
              "          await google.colab.output.renderOutput(dataTable, element);\n",
              "          const docLink = document.createElement('div');\n",
              "          docLink.innerHTML = docLinkHtml;\n",
              "          element.appendChild(docLink);\n",
              "        }\n",
              "      </script>\n",
              "    </div>\n",
              "  </div>\n",
              "  "
            ]
          },
          "metadata": {},
          "execution_count": 7
        }
      ]
    },
    {
      "cell_type": "markdown",
      "source": [
        "We can see that the describe() function excludes the character columns and gives summary statistics of numeric columns only."
      ],
      "metadata": {
        "id": "kqro0THU6zXu"
      }
    },
    {
      "cell_type": "markdown",
      "source": [
        "5. **Measures of central tendency:**\n",
        "\n",
        "Central tendency means a central value which describe a probability distribution. It may also be called a center or location of the distribution. The most common measures of central tendency are mean, median and mode. The most common measure of central tendency is the mean. For skewed distribution or when there is concern about outliers, the median may be preferred. So, median is more robust measure than the mean."
      ],
      "metadata": {
        "id": "IhmLwgvp69Jt"
      }
    },
    {
      "cell_type": "markdown",
      "source": [
        "* **Mean**\n",
        "\n",
        "\n",
        "The most common measure of central tendency is the mean.\n",
        "\n",
        "\n",
        "Mean is also known as the simple average.\n",
        "\n",
        "\n",
        "It is denoted by greek letter µ for population and by  ¯x for sample.\n",
        "\n",
        "\n",
        "We can find mean of a number of elements by adding all the elements in a dataset and then dividing by the number of elements in the dataset.\n",
        "\n",
        "\n",
        "It is the most common measure of central tendency but it has a drawback.\n",
        "\n",
        "\n",
        "The mean is affected by the presence of outliers.\n",
        "\n",
        "\n",
        "So, mean alone is not enough for making business decisions."
      ],
      "metadata": {
        "id": "6CehjfLK7NBt"
      }
    },
    {
      "cell_type": "code",
      "source": [
        "#Mean For Sepal Length\n",
        "print ( \"Mean Length of Flower's Sepal Length is \" , data_01[\"sepal length (cm)\"].mean() )"
      ],
      "metadata": {
        "id": "lCpYmbLLCcVe",
        "colab": {
          "base_uri": "https://localhost:8080/"
        },
        "outputId": "14a01f80-c16a-42ed-a2ce-c288ac34758b"
      },
      "execution_count": 8,
      "outputs": [
        {
          "output_type": "stream",
          "name": "stdout",
          "text": [
            "Mean Length of Flower's Sepal Length is  5.843333333333334\n"
          ]
        }
      ]
    },
    {
      "cell_type": "code",
      "source": [
        "plt.figure(figsize= (15,15))\n",
        "plt.hist( data_01[\"sepal length (cm)\"] , bins = 50 , color =\"lightblue\" )\n",
        "plt.axvline (  data_01[\"sepal length (cm)\"].mean() , color =\"red\" , linestyle = \"dashed\" )\n",
        "plt.xlabel(\" Sepal Length \")\n",
        "plt.title(\" Mean Length of Flower's Sepal Length \")\n",
        "plt.show()"
      ],
      "metadata": {
        "colab": {
          "base_uri": "https://localhost:8080/",
          "height": 893
        },
        "id": "tlOzJ_y3b4nQ",
        "outputId": "045bc2c2-1869-4e0d-d572-66be68adefef"
      },
      "execution_count": 9,
      "outputs": [
        {
          "output_type": "display_data",
          "data": {
            "text/plain": [
              "<Figure size 1080x1080 with 1 Axes>"
            ],
            "image/png": "[encoded data removed]"
          },
          "metadata": {
            "needs_background": "light"
          }
        }
      ]
    },
    {
      "cell_type": "code",
      "source": [
        "#Mean For Sepal Width\n",
        "print ( \"Mean Length of Flower's Sepal Width is \" , data_01[\"sepal width (cm)\"].mean() )"
      ],
      "metadata": {
        "colab": {
          "base_uri": "https://localhost:8080/"
        },
        "id": "1QIc9Vqd8mfj",
        "outputId": "476b5508-efa7-45f1-ad73-ae57f0f0b786"
      },
      "execution_count": 10,
      "outputs": [
        {
          "output_type": "stream",
          "name": "stdout",
          "text": [
            "Mean Length of Flower's Sepal Width is  3.0573333333333337\n"
          ]
        }
      ]
    },
    {
      "cell_type": "code",
      "source": [
        "plt.figure(figsize= (15,15))\n",
        "plt.hist( data_01[\"sepal width (cm)\"] , bins = 50 , color =\"lightblue\"  )\n",
        "plt.axvline (  data_01[\"sepal width (cm)\"].mean() , color =\"red\" , linestyle = \"dashed\" )\n",
        "plt.xlabel(\" Sepal Width \")\n",
        "plt.title(\" Mean Length of Flower's Sepal Width \")\n",
        "plt.show()"
      ],
      "metadata": {
        "colab": {
          "base_uri": "https://localhost:8080/",
          "height": 893
        },
        "id": "UKzi6HorcWwp",
        "outputId": "603d6822-4b79-4cb7-dca4-f6c1ef99f1a8"
      },
      "execution_count": 11,
      "outputs": [
        {
          "output_type": "display_data",
          "data": {
            "text/plain": [
              "<Figure size 1080x1080 with 1 Axes>"
            ],
            "image/png": "[encoded data removed]"
          },
          "metadata": {
            "needs_background": "light"
          }
        }
      ]
    },
    {
      "cell_type": "code",
      "source": [
        "#Mean For Petal Length\n",
        "print ( \"Mean Length of Flower's Petal Length is \" , data_01[\"petal length (cm)\"].mean() )"
      ],
      "metadata": {
        "colab": {
          "base_uri": "https://localhost:8080/"
        },
        "id": "6RNpX9tK8pcz",
        "outputId": "ef288477-12b4-499e-d391-cd208c7ab6ec"
      },
      "execution_count": 12,
      "outputs": [
        {
          "output_type": "stream",
          "name": "stdout",
          "text": [
            "Mean Length of Flower's Petal Length is  3.7580000000000005\n"
          ]
        }
      ]
    },
    {
      "cell_type": "code",
      "source": [
        "plt.figure(figsize= (15,15))\n",
        "plt.hist( data_01[\"petal length (cm)\"] , bins = 50 , color =\"lightblue\"  )\n",
        "plt.axvline (  data_01[\"petal length (cm)\"].mean() , color =\"red\" , linestyle = \"dashed\" )\n",
        "plt.xlabel(\" Petal Length \")\n",
        "plt.title(\" Mean Length of Flower's Petal Length \")\n",
        "plt.show()"
      ],
      "metadata": {
        "colab": {
          "base_uri": "https://localhost:8080/",
          "height": 893
        },
        "id": "Ah1arwVncmac",
        "outputId": "dfeb3092-c3bf-40d6-8b0b-657e932f9459"
      },
      "execution_count": 13,
      "outputs": [
        {
          "output_type": "display_data",
          "data": {
            "text/plain": [
              "<Figure size 1080x1080 with 1 Axes>"
            ],
            "image/png": "[encoded data removed]"
          },
          "metadata": {
            "needs_background": "light"
          }
        }
      ]
    },
    {
      "cell_type": "code",
      "source": [
        "#Mean For Petal Width\n",
        "print ( \"Mean Length of Flower's Petal Width is \" , data_01[\"petal width (cm)\"].mean() )"
      ],
      "metadata": {
        "colab": {
          "base_uri": "https://localhost:8080/"
        },
        "id": "YU3v-hGR8o7i",
        "outputId": "e232b922-0493-49e0-9335-c45ee8eaafd8"
      },
      "execution_count": 14,
      "outputs": [
        {
          "output_type": "stream",
          "name": "stdout",
          "text": [
            "Mean Length of Flower's Petal Width is  1.1993333333333336\n"
          ]
        }
      ]
    },
    {
      "cell_type": "code",
      "source": [
        "plt.figure(figsize= (15,15))\n",
        "plt.hist( data_01[\"petal width (cm)\"] , bins = 50 , color =\"lightblue\"  )\n",
        "plt.axvline (  data_01[\"petal width (cm)\"].mean() , color =\"red\" , linestyle = \"dashed\" )\n",
        "plt.xlabel(\" Petal Width \")\n",
        "plt.title(\" Mean Length of Flower's Petal Width \")\n",
        "plt.show()"
      ],
      "metadata": {
        "colab": {
          "base_uri": "https://localhost:8080/",
          "height": 893
        },
        "id": "gQQ59OFRdHwp",
        "outputId": "cae52e01-76dc-4bfe-ff63-131b1d67cc09"
      },
      "execution_count": 15,
      "outputs": [
        {
          "output_type": "display_data",
          "data": {
            "text/plain": [
              "<Figure size 1080x1080 with 1 Axes>"
            ],
            "image/png": "[encoded data removed]"
          },
          "metadata": {
            "needs_background": "light"
          }
        }
      ]
    },
    {
      "cell_type": "markdown",
      "source": [
        "*  **Median**\n",
        "\n",
        "\n",
        "Median is the number which divides the dataset into two equal halves.\n",
        "\n",
        "\n",
        "To calculate the median, we have to arrange our dataset of n numbers in ascending order.\n",
        "\n",
        "\n",
        "The median of this dataset is the number at (n+1)/2 th position, if n is odd.\n",
        "\n",
        "\n",
        "If n is even, then the median is the average of the (n/2)th number and (n+2)/2 th number.\n",
        "\n",
        "\n",
        "Median is robust to outliers.\n",
        "\n",
        "\n",
        "So, for skewed distribution or when there is concern about outliers, the median may be preferred.\n",
        "\n"
      ],
      "metadata": {
        "id": "NBB07YXN9D9G"
      }
    },
    {
      "cell_type": "code",
      "source": [
        "#Median For Sepal Length\n",
        "print ( \"Median Length of Flower's Sepal Length is \" , data_01[\"sepal length (cm)\"].median() )"
      ],
      "metadata": {
        "colab": {
          "base_uri": "https://localhost:8080/"
        },
        "outputId": "72524142-c0e1-428e-e6be-ebb7ca25e988",
        "id": "uJUDWHgw9qjM"
      },
      "execution_count": 16,
      "outputs": [
        {
          "output_type": "stream",
          "name": "stdout",
          "text": [
            "Median Length of Flower's Sepal Length is  5.8\n"
          ]
        }
      ]
    },
    {
      "cell_type": "code",
      "source": [
        "plt.figure(figsize= (15,15))\n",
        "plt.hist( data_01[\"sepal length (cm)\"] , bins = 50 , color =\"pink\" )\n",
        "plt.axvline (  data_01[\"sepal length (cm)\"].median() , color =\"blue\" , linestyle = \"dashed\" )\n",
        "plt.xlabel(\" Sepal Length \")\n",
        "plt.title(\" Median Length of Flower's Sepal Length \")\n",
        "plt.show()"
      ],
      "metadata": {
        "colab": {
          "base_uri": "https://localhost:8080/",
          "height": 893
        },
        "outputId": "f7da26af-4d2c-4d0c-ba6d-33bc250aacf0",
        "id": "pwymrJIkeHD4"
      },
      "execution_count": 17,
      "outputs": [
        {
          "output_type": "display_data",
          "data": {
            "text/plain": [
              "<Figure size 1080x1080 with 1 Axes>"
            ],
            "image/png": "[encoded data removed]"
          },
          "metadata": {
            "needs_background": "light"
          }
        }
      ]
    },
    {
      "cell_type": "code",
      "source": [
        "#Median For Sepal Width\n",
        "print ( \"Median Length of Flower's Sepal Width is \" , data_01[\"sepal width (cm)\"].median() )"
      ],
      "metadata": {
        "colab": {
          "base_uri": "https://localhost:8080/"
        },
        "outputId": "a24f279e-5574-43b6-fada-6907a208ee24",
        "id": "WWekbxWF9qjN"
      },
      "execution_count": 18,
      "outputs": [
        {
          "output_type": "stream",
          "name": "stdout",
          "text": [
            "Median Length of Flower's Sepal Width is  3.0\n"
          ]
        }
      ]
    },
    {
      "cell_type": "code",
      "source": [
        "plt.figure(figsize= (15,15))\n",
        "plt.hist( data_01[\"sepal width (cm)\"] , bins = 50 , color =\"pink\"  )\n",
        "plt.axvline (  data_01[\"sepal width (cm)\"].median() , color =\"blue\" , linestyle = \"dashed\" )\n",
        "plt.xlabel(\" Sepal Width \")\n",
        "plt.title(\" Median Length of Flower's Sepal Width \")\n",
        "plt.show()"
      ],
      "metadata": {
        "colab": {
          "base_uri": "https://localhost:8080/",
          "height": 893
        },
        "outputId": "8ffd2e86-a127-4712-aef7-53f6cbdd9724",
        "id": "40Wc1A2ReHD4"
      },
      "execution_count": 19,
      "outputs": [
        {
          "output_type": "display_data",
          "data": {
            "text/plain": [
              "<Figure size 1080x1080 with 1 Axes>"
            ],
            "image/png": "[encoded data removed]"
          },
          "metadata": {
            "needs_background": "light"
          }
        }
      ]
    },
    {
      "cell_type": "code",
      "source": [
        "#Median For Petal Length\n",
        "print ( \"Median Length of Flower's Petal Length is \" , data_01[\"petal length (cm)\"].median() )"
      ],
      "metadata": {
        "colab": {
          "base_uri": "https://localhost:8080/"
        },
        "outputId": "8fd0f84d-a6d4-4eaa-f099-fe7da3967fa1",
        "id": "a4xVSWRE9qjN"
      },
      "execution_count": 20,
      "outputs": [
        {
          "output_type": "stream",
          "name": "stdout",
          "text": [
            "Median Length of Flower's Petal Length is  4.35\n"
          ]
        }
      ]
    },
    {
      "cell_type": "code",
      "source": [
        "plt.figure(figsize= (15,15))\n",
        "plt.hist( data_01[\"petal length (cm)\"] , bins = 50 , color =\"pink\"  )\n",
        "plt.axvline (  data_01[\"petal length (cm)\"].median() , color =\"blue\" , linestyle = \"dashed\" )\n",
        "plt.xlabel(\" Petal Length \")\n",
        "plt.title(\" Median Length of Flower's Petal Length \")\n",
        "plt.show()"
      ],
      "metadata": {
        "colab": {
          "base_uri": "https://localhost:8080/",
          "height": 893
        },
        "outputId": "b645fff2-c5b1-49c7-c352-17618f7cfc4e",
        "id": "GOLWzUaYeHD5"
      },
      "execution_count": 21,
      "outputs": [
        {
          "output_type": "display_data",
          "data": {
            "text/plain": [
              "<Figure size 1080x1080 with 1 Axes>"
            ],
            "image/png": "[encoded data removed]"
          },
          "metadata": {
            "needs_background": "light"
          }
        }
      ]
    },
    {
      "cell_type": "code",
      "source": [
        "#Median For Petal Width\n",
        "print ( \"Median Length of Flower's Petal Width is \" , data_01[\"petal length (cm)\"].median() )"
      ],
      "metadata": {
        "colab": {
          "base_uri": "https://localhost:8080/"
        },
        "outputId": "3b44c3c8-bbf9-49e4-c261-cdbffdea3daf",
        "id": "7dFkkLmR9qjN"
      },
      "execution_count": 22,
      "outputs": [
        {
          "output_type": "stream",
          "name": "stdout",
          "text": [
            "Median Length of Flower's Petal Width is  4.35\n"
          ]
        }
      ]
    },
    {
      "cell_type": "code",
      "source": [
        "plt.figure(figsize= (15,15))\n",
        "plt.hist( data_01[\"petal width (cm)\"] , bins = 50 , color =\"pink\"  )\n",
        "plt.axvline (  data_01[\"petal width (cm)\"].median() , color =\"blue\" , linestyle = \"dashed\" )\n",
        "plt.xlabel(\" Petal Width \")\n",
        "plt.title(\" Median Length of Flower's Petal Width \")\n",
        "plt.show()"
      ],
      "metadata": {
        "colab": {
          "base_uri": "https://localhost:8080/",
          "height": 893
        },
        "outputId": "cc5a4ec6-f531-4a4f-b089-d6cb027ab755",
        "id": "ILwE0-JieHD5"
      },
      "execution_count": 23,
      "outputs": [
        {
          "output_type": "display_data",
          "data": {
            "text/plain": [
              "<Figure size 1080x1080 with 1 Axes>"
            ],
            "image/png": "[encoded data removed]"
          },
          "metadata": {
            "needs_background": "light"
          }
        }
      ]
    },
    {
      "cell_type": "markdown",
      "source": [
        "*  **Mode:**\n",
        "\n",
        "\n",
        "Mode of a dataset is the value that occurs most often in the dataset.\n",
        "\n",
        "Mode is the value that has the highest frequency of occurrence in the dataset."
      ],
      "metadata": {
        "id": "FQs98tDj989u"
      }
    },
    {
      "cell_type": "code",
      "source": [
        "#Mode For Sepal Length\n",
        "print ( \"Mode Length of Flower's Sepal Length is \" , data_01[\"sepal length (cm)\"].mode() )"
      ],
      "metadata": {
        "colab": {
          "base_uri": "https://localhost:8080/"
        },
        "id": "uePcqWsj-jh_",
        "outputId": "560f58ad-dc8a-4d8d-c08c-59ea41f5f00a"
      },
      "execution_count": 24,
      "outputs": [
        {
          "output_type": "stream",
          "name": "stdout",
          "text": [
            "Mode Length of Flower's Sepal Length is  0    5.0\n",
            "dtype: float64\n"
          ]
        }
      ]
    },
    {
      "cell_type": "code",
      "source": [
        "#Mode For Sepal Width\n",
        "print ( \"Mode Length of Flower's Sepal Width is \" , data_01[\"sepal width (cm)\"].mode() )"
      ],
      "metadata": {
        "colab": {
          "base_uri": "https://localhost:8080/"
        },
        "id": "hgVkMoEl-jh_",
        "outputId": "396b5158-53a5-4909-dc1e-a952d1870ecb"
      },
      "execution_count": 25,
      "outputs": [
        {
          "output_type": "stream",
          "name": "stdout",
          "text": [
            "Mode Length of Flower's Sepal Width is  0    3.0\n",
            "dtype: float64\n"
          ]
        }
      ]
    },
    {
      "cell_type": "code",
      "source": [
        "#Mode For Petal Length\n",
        "print ( \"Mode Length of Flower's Petal Length is \" , data_01[\"petal length (cm)\"].mode() )"
      ],
      "metadata": {
        "colab": {
          "base_uri": "https://localhost:8080/"
        },
        "id": "lQWPs33a-jiA",
        "outputId": "9c070def-520a-4d93-ef41-5517006e1991"
      },
      "execution_count": 26,
      "outputs": [
        {
          "output_type": "stream",
          "name": "stdout",
          "text": [
            "Mode Length of Flower's Petal Length is  0    1.4\n",
            "1    1.5\n",
            "dtype: float64\n"
          ]
        }
      ]
    },
    {
      "cell_type": "code",
      "source": [
        "#Mode For Petal Width\n",
        "print ( \"Mode Length of Flower's Petal Width is \" , data_01[\"petal length (cm)\"].mode() )"
      ],
      "metadata": {
        "colab": {
          "base_uri": "https://localhost:8080/"
        },
        "id": "zYKd5LsT-jiA",
        "outputId": "1c73811c-e319-4d39-d6fa-6e82bc041a6c"
      },
      "execution_count": 27,
      "outputs": [
        {
          "output_type": "stream",
          "name": "stdout",
          "text": [
            "Mode Length of Flower's Petal Width is  0    1.4\n",
            "1    1.5\n",
            "dtype: float64\n"
          ]
        }
      ]
    },
    {
      "cell_type": "markdown",
      "source": [
        "*  **We can see that mean > median > mode. So, the distribution of Revenue (in millions) is positively skewed. I will plot its distribution to confirm the same**"
      ],
      "metadata": {
        "id": "S4ungsl1-2a9"
      }
    },
    {
      "cell_type": "markdown",
      "source": [
        "**There is no best measure that give us the complete picture. So, these measures of central tendency (mean, median and mode) should be used together to represent the full picture.**"
      ],
      "metadata": {
        "id": "lFbrvzlF-N88"
      }
    },
    {
      "cell_type": "markdown",
      "source": [
        "6. **Measures of dispersion or variability:**\n",
        "\n",
        "Dispersion is an indicator of how far away from the center, we can find the data values. The most common measures of dispersion are variance, standard deviation and interquartile range (IQR). Variance is the standard measure of spread. The standard deviation is the square root of the variance. The variance and standard deviation are two useful measures of spread."
      ],
      "metadata": {
        "id": "e2QE3Hbt_q0F"
      }
    },
    {
      "cell_type": "markdown",
      "source": [
        "* **Minimum:**\n",
        "\n",
        "Minimum Values Show's Lower Limit."
      ],
      "metadata": {
        "id": "8JTS2_BeBX-_"
      }
    },
    {
      "cell_type": "code",
      "source": [
        "#Minimum For Sepal Length\n",
        "print(\"Minimum Value From Sepal Length Observation is \" , data_01[\"sepal length (cm)\"].min() )"
      ],
      "metadata": {
        "id": "_VqBKNyDCtON",
        "colab": {
          "base_uri": "https://localhost:8080/"
        },
        "outputId": "a0aee550-6da3-4f88-a94d-91c09d34975e"
      },
      "execution_count": 28,
      "outputs": [
        {
          "output_type": "stream",
          "name": "stdout",
          "text": [
            "Minimum Value From Sepal Length Observation is  4.3\n"
          ]
        }
      ]
    },
    {
      "cell_type": "code",
      "source": [
        "#Minimum For Sepal Width\n",
        "print(\"Minimum Value From Sepal width Observation is \" , data_01[\"sepal width (cm)\"].min() )"
      ],
      "metadata": {
        "colab": {
          "base_uri": "https://localhost:8080/"
        },
        "id": "NgXgXLU0Jq8R",
        "outputId": "f682773d-3cd6-4047-8521-aa1e24f0ceac"
      },
      "execution_count": 29,
      "outputs": [
        {
          "output_type": "stream",
          "name": "stdout",
          "text": [
            "Minimum Value From Sepal width Observation is  2.0\n"
          ]
        }
      ]
    },
    {
      "cell_type": "code",
      "source": [
        "#Minimum For Petal Length\n",
        "print(\"Minimum Value From Petal Length Observation is \" , data_01[\"petal length (cm)\"].min() )"
      ],
      "metadata": {
        "colab": {
          "base_uri": "https://localhost:8080/"
        },
        "id": "ohxuTsvVJqtJ",
        "outputId": "2afd275f-f472-482c-bd40-7bdb098ac5ae"
      },
      "execution_count": 30,
      "outputs": [
        {
          "output_type": "stream",
          "name": "stdout",
          "text": [
            "Minimum Value From Petal Length Observation is  1.0\n"
          ]
        }
      ]
    },
    {
      "cell_type": "code",
      "source": [
        "#Minimum For Petal Width\n",
        "print(\"Minimum Value From Petal Width Observation is \" , data_01[\"petal width (cm)\"].min() )"
      ],
      "metadata": {
        "colab": {
          "base_uri": "https://localhost:8080/"
        },
        "id": "pgtlZTqKJql6",
        "outputId": "47bcc27f-c9bd-4d9a-f9a2-705968f16a09"
      },
      "execution_count": 31,
      "outputs": [
        {
          "output_type": "stream",
          "name": "stdout",
          "text": [
            "Minimum Value From Petal Width Observation is  0.1\n"
          ]
        }
      ]
    },
    {
      "cell_type": "markdown",
      "source": [
        "* **Maximum:**\n",
        "\n",
        "Maximum Values Show's Upper Limit."
      ],
      "metadata": {
        "id": "llFt-fLUBnTu"
      }
    },
    {
      "cell_type": "code",
      "source": [
        "#Maximum For Sepal Length\n",
        "print(\"Maximum Value From Sepal Length Observation is \" , data_01[\"sepal length (cm)\"].max() )"
      ],
      "metadata": {
        "colab": {
          "base_uri": "https://localhost:8080/"
        },
        "id": "7Y1ZFmFLLCKB",
        "outputId": "04d165b5-2561-47e7-ed42-1cb9d97a5586"
      },
      "execution_count": 32,
      "outputs": [
        {
          "output_type": "stream",
          "name": "stdout",
          "text": [
            "Maximum Value From Sepal Length Observation is  7.9\n"
          ]
        }
      ]
    },
    {
      "cell_type": "code",
      "source": [
        "#Maximum For Sepal Width\n",
        "print(\"Maximum Value From Sepal width Observation is \" , data_01[\"sepal width (cm)\"].max() )"
      ],
      "metadata": {
        "colab": {
          "base_uri": "https://localhost:8080/"
        },
        "id": "QqzLAri_LCKB",
        "outputId": "dda98e62-4a7c-409a-8c2a-6df242645991"
      },
      "execution_count": 33,
      "outputs": [
        {
          "output_type": "stream",
          "name": "stdout",
          "text": [
            "Maximum Value From Sepal width Observation is  4.4\n"
          ]
        }
      ]
    },
    {
      "cell_type": "code",
      "source": [
        "#Maximum For Petal Length\n",
        "print(\"Maximum Value From Petal Length Observation is \" , data_01[\"petal length (cm)\"].max() )"
      ],
      "metadata": {
        "colab": {
          "base_uri": "https://localhost:8080/"
        },
        "id": "piACyw9SLCKB",
        "outputId": "7ab50f2d-02a2-4209-bf55-555f3a50f0de"
      },
      "execution_count": 34,
      "outputs": [
        {
          "output_type": "stream",
          "name": "stdout",
          "text": [
            "Maximum Value From Petal Length Observation is  6.9\n"
          ]
        }
      ]
    },
    {
      "cell_type": "code",
      "source": [
        "#Maximum For Petal Width\n",
        "print(\"Maximum Value From Petal Width Observation is \" , data_01[\"petal width (cm)\"].max() )"
      ],
      "metadata": {
        "colab": {
          "base_uri": "https://localhost:8080/"
        },
        "id": "9korswreLCKB",
        "outputId": "08cfb75c-04d8-4e28-b1f5-449c55a244fc"
      },
      "execution_count": 35,
      "outputs": [
        {
          "output_type": "stream",
          "name": "stdout",
          "text": [
            "Maximum Value From Petal Width Observation is  2.5\n"
          ]
        }
      ]
    },
    {
      "cell_type": "markdown",
      "source": [
        "* **Range:**\n",
        "\n",
        "The Area of Variation between Upper and Lower Limits."
      ],
      "metadata": {
        "id": "vDuiJcXNBxpm"
      }
    },
    {
      "cell_type": "code",
      "source": [
        "#Range For Sepal Length\n",
        "print(\"Range Value From Sepal Length Observation is \" , data_01[\"sepal length (cm)\"].max() - data_01[\"sepal length (cm)\"].min() )"
      ],
      "metadata": {
        "colab": {
          "base_uri": "https://localhost:8080/"
        },
        "id": "HTN6rnZNLZPl",
        "outputId": "9581df50-7706-419c-82a0-d2b2c0ed9063"
      },
      "execution_count": 36,
      "outputs": [
        {
          "output_type": "stream",
          "name": "stdout",
          "text": [
            "Range Value From Sepal Length Observation is  3.6000000000000005\n"
          ]
        }
      ]
    },
    {
      "cell_type": "code",
      "source": [
        "#Range For Sepal Width\n",
        "print(\"Range Value From Sepal width Observation is \" , data_01[\"sepal width (cm)\"].max() - data_01[\"sepal width (cm)\"].min() )"
      ],
      "metadata": {
        "colab": {
          "base_uri": "https://localhost:8080/"
        },
        "id": "9TBtYbNyLZPl",
        "outputId": "941e3587-9f6a-406f-95d6-e4894cf9ccfc"
      },
      "execution_count": 37,
      "outputs": [
        {
          "output_type": "stream",
          "name": "stdout",
          "text": [
            "Range Value From Sepal width Observation is  2.4000000000000004\n"
          ]
        }
      ]
    },
    {
      "cell_type": "code",
      "source": [
        "#Range For Petal Length\n",
        "print(\"Range Value From Petal Length Observation is \" , data_01[\"petal length (cm)\"].max() -  data_01[\"petal length (cm)\"].min() )"
      ],
      "metadata": {
        "colab": {
          "base_uri": "https://localhost:8080/"
        },
        "id": "mc4GRs1cLZPm",
        "outputId": "60e632d7-9107-4c29-f06d-cca2f1e1722f"
      },
      "execution_count": 38,
      "outputs": [
        {
          "output_type": "stream",
          "name": "stdout",
          "text": [
            "Range Value From Petal Length Observation is  5.9\n"
          ]
        }
      ]
    },
    {
      "cell_type": "code",
      "source": [
        "#Range For Petal Width\n",
        "print(\"Range Value From Petal Width Observation is \" , data_01[\"petal width (cm)\"].max() - data_01[\"petal width (cm)\"].min() )"
      ],
      "metadata": {
        "colab": {
          "base_uri": "https://localhost:8080/"
        },
        "id": "pk9yklaiLZPm",
        "outputId": "628eb6ac-3afd-49be-d474-61e6b73d6577"
      },
      "execution_count": 39,
      "outputs": [
        {
          "output_type": "stream",
          "name": "stdout",
          "text": [
            "Range Value From Petal Width Observation is  2.4\n"
          ]
        }
      ]
    },
    {
      "cell_type": "markdown",
      "source": [
        "* **Variance**\n",
        "\n",
        "Variance measures the dispersion of a set of data points around their mean value.\n",
        "\n",
        "\n",
        "It is the mean of the squares of the individual deviations.\n",
        "\n",
        "\n",
        "Variance gives results in the original units squared."
      ],
      "metadata": {
        "id": "O5-VJdqG_okV"
      }
    },
    {
      "cell_type": "code",
      "source": [
        "#Variance of For Sepal Length\n",
        "print ( \"Variance of Length of Flower's Sepal Length is \" , data_01[\"sepal length (cm)\"].var() )"
      ],
      "metadata": {
        "colab": {
          "base_uri": "https://localhost:8080/"
        },
        "id": "gbuoH9jSMOMX",
        "outputId": "b9a81a99-2f45-4866-f6a5-2c5d781a5991"
      },
      "execution_count": 40,
      "outputs": [
        {
          "output_type": "stream",
          "name": "stdout",
          "text": [
            "Variance of Length of Flower's Sepal Length is  0.6856935123042507\n"
          ]
        }
      ]
    },
    {
      "cell_type": "code",
      "source": [
        "#Variance of For Sepal Width\n",
        "print ( \"Variance of Length of Flower's Sepal Width is \" , data_01[\"sepal width (cm)\"].var() )"
      ],
      "metadata": {
        "colab": {
          "base_uri": "https://localhost:8080/"
        },
        "id": "SfTvRlIFMOMX",
        "outputId": "44b55c81-1491-4d7c-c536-b1606ae9c7fa"
      },
      "execution_count": 41,
      "outputs": [
        {
          "output_type": "stream",
          "name": "stdout",
          "text": [
            "Variance of Length of Flower's Sepal Width is  0.189979418344519\n"
          ]
        }
      ]
    },
    {
      "cell_type": "code",
      "source": [
        "#Variance For Petal Length\n",
        "print ( \"Variance Length of Flower's Petal Length is \" , data_01[\"petal length (cm)\"].var() )"
      ],
      "metadata": {
        "colab": {
          "base_uri": "https://localhost:8080/"
        },
        "id": "RNfJXuPnMOMY",
        "outputId": "ba5ba1a4-ffd5-4981-b3f4-9ef7364c5f95"
      },
      "execution_count": 42,
      "outputs": [
        {
          "output_type": "stream",
          "name": "stdout",
          "text": [
            "Variance Length of Flower's Petal Length is  3.116277852348993\n"
          ]
        }
      ]
    },
    {
      "cell_type": "code",
      "source": [
        "#Variance of For Petal Width\n",
        "print ( \"Variance of Length of Flower's Petal Width is \" , data_01[\"petal length (cm)\"].var() )"
      ],
      "metadata": {
        "colab": {
          "base_uri": "https://localhost:8080/"
        },
        "id": "5KV3H4FNMOMY",
        "outputId": "cb7d2618-e471-4f82-e184-b340418c2360"
      },
      "execution_count": 43,
      "outputs": [
        {
          "output_type": "stream",
          "name": "stdout",
          "text": [
            "Variance of Length of Flower's Petal Width is  3.116277852348993\n"
          ]
        }
      ]
    },
    {
      "cell_type": "markdown",
      "source": [
        "*  **Standard deviation:**\n",
        "\n",
        "Standard deviation is the most common used measure of variability.\n",
        "\n",
        "\n",
        "It is the square-root of the variance.\n",
        "\n",
        "\n",
        "For Normally distributed data, approximately 95% of the values lie within 2 s.d. of the mean.\n",
        "\n",
        "\n",
        "Standard deviation gives results in the original units."
      ],
      "metadata": {
        "id": "FbBAOX2aAXeS"
      }
    },
    {
      "cell_type": "code",
      "source": [
        "#Standard Devation of For Sepal Length\n",
        "print ( \"Standard Devation of Length of Flower's Sepal Length is \" , data_01[\"sepal length (cm)\"].std() )"
      ],
      "metadata": {
        "colab": {
          "base_uri": "https://localhost:8080/"
        },
        "id": "bvnqWymYMhfO",
        "outputId": "76ceb3da-4d57-43d4-c907-ba08cc0729b7"
      },
      "execution_count": 44,
      "outputs": [
        {
          "output_type": "stream",
          "name": "stdout",
          "text": [
            "Standard Devation of Length of Flower's Sepal Length is  0.828066127977863\n"
          ]
        }
      ]
    },
    {
      "cell_type": "code",
      "source": [
        "#Standard Devation of For Sepal Width\n",
        "print ( \"Standard Devation of Length of Flower's Sepal Width is \" , data_01[\"sepal width (cm)\"].std() )"
      ],
      "metadata": {
        "colab": {
          "base_uri": "https://localhost:8080/"
        },
        "id": "x2PciDGAMhfP",
        "outputId": "e1104495-9441-4bbf-936a-8ab023496f43"
      },
      "execution_count": 45,
      "outputs": [
        {
          "output_type": "stream",
          "name": "stdout",
          "text": [
            "Standard Devation of Length of Flower's Sepal Width is  0.4358662849366982\n"
          ]
        }
      ]
    },
    {
      "cell_type": "code",
      "source": [
        "#Standard Devation For Petal Length\n",
        "print ( \"Standard Devation Length of Flower's Petal Length is \" , data_01[\"petal length (cm)\"].std() )"
      ],
      "metadata": {
        "colab": {
          "base_uri": "https://localhost:8080/"
        },
        "id": "4pif1QUNMhfP",
        "outputId": "6075c7e1-04bd-4c61-f45a-c52a124b1a66"
      },
      "execution_count": 46,
      "outputs": [
        {
          "output_type": "stream",
          "name": "stdout",
          "text": [
            "Standard Devation Length of Flower's Petal Length is  1.7652982332594662\n"
          ]
        }
      ]
    },
    {
      "cell_type": "code",
      "source": [
        "#Standard Devation of For Petal Width\n",
        "print ( \"Standard Devation of Length of Flower's Petal Width is \" , data_01[\"petal length (cm)\"].std() )"
      ],
      "metadata": {
        "colab": {
          "base_uri": "https://localhost:8080/"
        },
        "id": "okqOBwNPMhfP",
        "outputId": "8a146442-b417-4c90-c5ed-fb7058908e43"
      },
      "execution_count": 47,
      "outputs": [
        {
          "output_type": "stream",
          "name": "stdout",
          "text": [
            "Standard Devation of Length of Flower's Petal Width is  1.7652982332594662\n"
          ]
        }
      ]
    },
    {
      "cell_type": "markdown",
      "source": [
        "*  **Quartile's:**\n",
        "\n",
        "A quartile is a statistical term that describes a division of observations into four defined intervals based on the values of the data and how they compare to the entire set of observations."
      ],
      "metadata": {
        "id": "1ibnNe9vAvv6"
      }
    },
    {
      "cell_type": "markdown",
      "source": [
        "*  **Q3:**\n",
        "\n",
        "The third quartile (Q3) is the middle value between the median and the highest value (maximum) of the data set. It is known as the upper or 75th empirical quartile, as 75% of the data lies below this point."
      ],
      "metadata": {
        "id": "3SvtUTywObac"
      }
    },
    {
      "cell_type": "code",
      "source": [
        "#Third Quartile of For Sepal Length\n",
        "print ( \"Third Quartile of Length of Flower's Sepal Length (Q3) is \" , data_01[\"sepal length (cm)\"].quantile(0.75) )"
      ],
      "metadata": {
        "colab": {
          "base_uri": "https://localhost:8080/"
        },
        "id": "52ySlib_O4zY",
        "outputId": "64826fdd-1a1b-46de-cb28-d5123ab33261"
      },
      "execution_count": 48,
      "outputs": [
        {
          "output_type": "stream",
          "name": "stdout",
          "text": [
            "Third Quartile of Length of Flower's Sepal Length (Q3) is  6.4\n"
          ]
        }
      ]
    },
    {
      "cell_type": "code",
      "source": [
        "#Third Quartile of For Sepal Width\n",
        "print ( \"Third Quartile of Length of Flower's Sepal Width (Q3) is \" , data_01[\"sepal width (cm)\"].quantile(0.75) )"
      ],
      "metadata": {
        "colab": {
          "base_uri": "https://localhost:8080/"
        },
        "id": "HMYkjc0LO4zY",
        "outputId": "88766f1c-08cb-402a-cb13-97a4ecf4d7a4"
      },
      "execution_count": 49,
      "outputs": [
        {
          "output_type": "stream",
          "name": "stdout",
          "text": [
            "Third Quartile of Length of Flower's Sepal Width (Q3) is  3.3\n"
          ]
        }
      ]
    },
    {
      "cell_type": "code",
      "source": [
        "#Third Quartile For Petal Length\n",
        "print ( \"Third Quartile Length of Flower's Petal Length (Q3) is \" , data_01[\"petal length (cm)\"].quantile(0.75) )"
      ],
      "metadata": {
        "colab": {
          "base_uri": "https://localhost:8080/"
        },
        "id": "cmIXtAE-O4zZ",
        "outputId": "52b83a57-0b0e-4824-a75a-6948202d8ee7"
      },
      "execution_count": 50,
      "outputs": [
        {
          "output_type": "stream",
          "name": "stdout",
          "text": [
            "Third Quartile Length of Flower's Petal Length (Q3) is  5.1\n"
          ]
        }
      ]
    },
    {
      "cell_type": "code",
      "source": [
        "#Third Quartile of For Petal Width\n",
        "print ( \"Third Quartile of Length of Flower's Petal Width (Q3) is \" , data_01[\"petal length (cm)\"].quantile(0.75) )"
      ],
      "metadata": {
        "colab": {
          "base_uri": "https://localhost:8080/"
        },
        "id": "dAK3CagyO4zZ",
        "outputId": "37245397-0b26-4bd3-83a7-a8f0722dec8c"
      },
      "execution_count": 51,
      "outputs": [
        {
          "output_type": "stream",
          "name": "stdout",
          "text": [
            "Third Quartile of Length of Flower's Petal Width (Q3) is  5.1\n"
          ]
        }
      ]
    },
    {
      "cell_type": "markdown",
      "source": [
        "*  **Q2:**\n",
        "\n",
        "The second quartile (Q2) is the median of a data set; thus 50% of the data lies below this point."
      ],
      "metadata": {
        "id": "LpPQKnmuPoKN"
      }
    },
    {
      "cell_type": "code",
      "source": [
        "#Second Quartile of For Sepal Length\n",
        "print ( \"Second Quartile of Length of Flower's Sepal Length (Q2) is \" , data_01[\"sepal length (cm)\"].quantile(0.5) )"
      ],
      "metadata": {
        "colab": {
          "base_uri": "https://localhost:8080/"
        },
        "id": "kb13_nejPi3o",
        "outputId": "96e6052d-0e55-4323-d152-4c3899e740ac"
      },
      "execution_count": 52,
      "outputs": [
        {
          "output_type": "stream",
          "name": "stdout",
          "text": [
            "Second Quartile of Length of Flower's Sepal Length (Q2) is  5.8\n"
          ]
        }
      ]
    },
    {
      "cell_type": "code",
      "source": [
        "#Second Quartile of For Sepal Width\n",
        "print ( \"Second Quartile of Length of Flower's Sepal Width (Q2) is \" , data_01[\"sepal width (cm)\"].quantile(0.5) )"
      ],
      "metadata": {
        "colab": {
          "base_uri": "https://localhost:8080/"
        },
        "id": "4M6mkqvjPi3p",
        "outputId": "d257ce14-124d-4e4c-cee6-4c39f7cdab8b"
      },
      "execution_count": 53,
      "outputs": [
        {
          "output_type": "stream",
          "name": "stdout",
          "text": [
            "Second Quartile of Length of Flower's Sepal Width (Q2) is  3.0\n"
          ]
        }
      ]
    },
    {
      "cell_type": "code",
      "source": [
        "#Second Quartile For Petal Length\n",
        "print ( \"Second Quartile Length of Flower's Petal Length (Q2) is \" , data_01[\"petal length (cm)\"].quantile(0.5) )"
      ],
      "metadata": {
        "colab": {
          "base_uri": "https://localhost:8080/"
        },
        "id": "wt2iZb1QPi3p",
        "outputId": "aba0b5cd-d3ff-4251-b50e-e84d888de388"
      },
      "execution_count": 54,
      "outputs": [
        {
          "output_type": "stream",
          "name": "stdout",
          "text": [
            "Second Quartile Length of Flower's Petal Length (Q2) is  4.35\n"
          ]
        }
      ]
    },
    {
      "cell_type": "code",
      "source": [
        "#Second Quartile of For Petal Width\n",
        "print ( \"Second Quartile of Length of Flower's Petal Width (Q2) is \" , data_01[\"petal length (cm)\"].quantile(0.5) )"
      ],
      "metadata": {
        "colab": {
          "base_uri": "https://localhost:8080/"
        },
        "id": "vnMokolHPi3p",
        "outputId": "2faa81f7-0714-43cd-f140-a4cd95034524"
      },
      "execution_count": 55,
      "outputs": [
        {
          "output_type": "stream",
          "name": "stdout",
          "text": [
            "Second Quartile of Length of Flower's Petal Width (Q2) is  4.35\n"
          ]
        }
      ]
    },
    {
      "cell_type": "markdown",
      "source": [
        "The first quartile (Q1) is defined as the middle number between the smallest number (minimum) and the median of the data set. It is also known as the lower or 25th empirical quartile, as 25% of the data is below this point."
      ],
      "metadata": {
        "id": "5Sn158vXNxkd"
      }
    },
    {
      "cell_type": "code",
      "source": [
        "#First Quartile of For Sepal Length\n",
        "print ( \"First Quartile of Length of Flower's Sepal Length (Q1) is \" , data_01[\"sepal length (cm)\"].quantile(0.25) )"
      ],
      "metadata": {
        "colab": {
          "base_uri": "https://localhost:8080/"
        },
        "id": "6bm0njZ2QGCg",
        "outputId": "5bf31e53-a5a2-455f-8c4f-53d808ee8968"
      },
      "execution_count": 56,
      "outputs": [
        {
          "output_type": "stream",
          "name": "stdout",
          "text": [
            "First Quartile of Length of Flower's Sepal Length (Q1) is  5.1\n"
          ]
        }
      ]
    },
    {
      "cell_type": "code",
      "source": [
        "#First Quartile of For Sepal Width\n",
        "print ( \"First Quartile of Length of Flower's Sepal Width (Q1) is \" , data_01[\"sepal width (cm)\"].quantile(0.25) )"
      ],
      "metadata": {
        "colab": {
          "base_uri": "https://localhost:8080/"
        },
        "id": "wJPRmYhxQGCg",
        "outputId": "6aaba8e3-4dc1-443f-f573-dadf713a0db4"
      },
      "execution_count": 57,
      "outputs": [
        {
          "output_type": "stream",
          "name": "stdout",
          "text": [
            "First Quartile of Length of Flower's Sepal Width (Q1) is  2.8\n"
          ]
        }
      ]
    },
    {
      "cell_type": "code",
      "source": [
        "#First Quartile For Petal Length\n",
        "print ( \"First Quartile Length of Flower's Petal Length (Q1) is \" , data_01[\"petal length (cm)\"].quantile(0.25) )"
      ],
      "metadata": {
        "colab": {
          "base_uri": "https://localhost:8080/"
        },
        "id": "yLVu3-CNQGCg",
        "outputId": "cf340390-337b-4d99-bdc6-1e7149ae56c1"
      },
      "execution_count": 58,
      "outputs": [
        {
          "output_type": "stream",
          "name": "stdout",
          "text": [
            "First Quartile Length of Flower's Petal Length (Q1) is  1.6\n"
          ]
        }
      ]
    },
    {
      "cell_type": "code",
      "source": [
        "#First Quartile of For Petal Width\n",
        "print ( \"First Quartile of Length of Flower's Petal Width (Q1) is \" , data_01[\"petal length (cm)\"].quantile(0.25) )"
      ],
      "metadata": {
        "colab": {
          "base_uri": "https://localhost:8080/"
        },
        "id": "Om9tf4GkQGCg",
        "outputId": "9e2dccf5-10f5-4cdc-b759-c0cda8f3c545"
      },
      "execution_count": 59,
      "outputs": [
        {
          "output_type": "stream",
          "name": "stdout",
          "text": [
            "First Quartile of Length of Flower's Petal Width (Q1) is  1.6\n"
          ]
        }
      ]
    },
    {
      "cell_type": "markdown",
      "source": [
        "* **IQR:**\n",
        "\n",
        "A third measure of spread is the Interquartile Range (IQR).\n",
        "\n",
        "\n",
        "The IQR is calculated using the boundaries of data situated between the 1st and the 3rd quartiles.\n",
        "\n",
        "\n",
        "The interquartile range (IQR) can be calculated as follows:- IQR = Q3 – Q1\n",
        "\n",
        "\n",
        "In the same way that the median is more robust than the mean, the IQR is a more robust measure of spread than variance and standard deviation and should therefore be preferred for small or asymmetrical distributions.\n",
        "\n",
        "\n",
        "It is a robust measure of spread."
      ],
      "metadata": {
        "id": "kWx6XtsECjQ1"
      }
    },
    {
      "cell_type": "code",
      "source": [
        "#Interquartile Range of For Sepal Length\n",
        "print ( \"Interquartile Range of Length of Flower's Sepal Length is \" , data_01[\"sepal length (cm)\"].quantile(0.75) - data_01[\"sepal length (cm)\"].quantile(0.25) )"
      ],
      "metadata": {
        "colab": {
          "base_uri": "https://localhost:8080/"
        },
        "id": "yBmFsW_xQ_Pq",
        "outputId": "0247ada5-d7f3-4a69-9e55-20b171ac2d3c"
      },
      "execution_count": 60,
      "outputs": [
        {
          "output_type": "stream",
          "name": "stdout",
          "text": [
            "Interquartile Range of Length of Flower's Sepal Length is  1.3000000000000007\n"
          ]
        }
      ]
    },
    {
      "cell_type": "code",
      "source": [
        "#Interquartile Range of For Petal Width\n",
        "print ( \"Interquartile Range of Length of Flower's Petal Widt is \" , data_01[\"sepal width (cm)\"].quantile(0.75) - data_01[\"petal length (cm)\"].quantile(0.25) )"
      ],
      "metadata": {
        "colab": {
          "base_uri": "https://localhost:8080/"
        },
        "id": "OC4nbe7dQxBb",
        "outputId": "29c7f895-e7ce-487e-c496-d231e3d02193"
      },
      "execution_count": 61,
      "outputs": [
        {
          "output_type": "stream",
          "name": "stdout",
          "text": [
            "Interquartile Range of Length of Flower's Petal Widt is  1.6999999999999997\n"
          ]
        }
      ]
    },
    {
      "cell_type": "code",
      "source": [
        "#Interquartile Range For Petal Length\n",
        "print ( \"Interquartile Range Length of Flower's Petal Length is \" , data_01[\"petal length (cm)\"].quantile(0.75) - data_01[\"petal length (cm)\"].quantile(0.25) )"
      ],
      "metadata": {
        "colab": {
          "base_uri": "https://localhost:8080/"
        },
        "id": "idOY34ThRCOx",
        "outputId": "21ab99a1-f2d0-4e3d-d305-8fa69ae6191e"
      },
      "execution_count": 62,
      "outputs": [
        {
          "output_type": "stream",
          "name": "stdout",
          "text": [
            "Interquartile Range Length of Flower's Petal Length is  3.4999999999999996\n"
          ]
        }
      ]
    },
    {
      "cell_type": "code",
      "source": [
        "#Interquartile Range of For Petal Width\n",
        "print ( \"Interquartile Range of Length of Flower's Petal Width is \" , data_01[\"petal length (cm)\"].quantile(0.75) - data_01[\"petal length (cm)\"].quantile(0.25) )"
      ],
      "metadata": {
        "colab": {
          "base_uri": "https://localhost:8080/"
        },
        "id": "oZ7tPAHURMOi",
        "outputId": "090d1ad3-97ca-4a7d-c2d3-842353ce74a4"
      },
      "execution_count": 63,
      "outputs": [
        {
          "output_type": "stream",
          "name": "stdout",
          "text": [
            "Interquartile Range of Length of Flower's Petal Width is  3.4999999999999996\n"
          ]
        }
      ]
    },
    {
      "cell_type": "markdown",
      "source": [
        "7.  **Measures of shape:**\n",
        "\n",
        "Now, we will take a look at measures of shape of distribution. There are two statistical measures that can tell us about the shape of the distribution. These measures are skewness and kurtosis. These measures can be used to convey information about the shape of the distribution of the dataset."
      ],
      "metadata": {
        "id": "fpc7T5j5DAct"
      }
    },
    {
      "cell_type": "markdown",
      "source": [
        "*  **Skewness:**\n",
        "\n",
        "Skewness is a measure of a distribution's symmetry or more precisely lack of symmetry.\n",
        "\n",
        "\n",
        "It is used to mean the absence of symmetry from the mean of the dataset.\n",
        "\n",
        "\n",
        "It is a characteristic of the deviation from the mean.\n",
        "\n",
        "\n",
        "It is used to indicate the shape of the distribution of data.\n",
        "\n",
        "* *Negative skewness*\n",
        "\n",
        "Negative values for skewness indicate negative skewness.\n",
        "\n",
        "\n",
        "In this case, the data are skewed or tail to left.\n",
        "\n",
        "\n",
        "By skewed left, we mean that the left tail is long relative to the right tail.\n",
        "\n",
        "\n",
        "The data values may extend further to the left but concentrated in the right.\n",
        "\n",
        "\n",
        "So, there is a long tail and distortion is caused by extremely small values which pull the mean downward so that it is less than the median.\n",
        "\n",
        "\n",
        "Hence, in this case we have `Mean < Median < Mode`\n",
        "\n",
        "\n",
        "*  *Zero skewness*\n",
        "\n",
        "Zero skewness means skewness value of zero.\n",
        "\n",
        "\n",
        "It means the dataset is symmetrical.\n",
        "\n",
        "\n",
        "A data set is symmetrical if it looks the same to the left and right to the center point.\n",
        "\n",
        "\n",
        "The dataset looks bell shaped or symmetrical.\n",
        "\n",
        "\n",
        "A perfectly symmetrical data set will have a skewness of zero.\n",
        "\n",
        "\n",
        "So, the normal distribution which is perfectly symmetrical has a skewness of 0.\n",
        "\n",
        "\n",
        "So, in this case, we have `Mean = Median = Mode`\n",
        "\n",
        "\n",
        "*    *Positive skewness*\n",
        "\n",
        "Positive values for skewness indicate positive skewness.\n",
        "\n",
        "\n",
        "The dataset are skewed or tail to right.\n",
        "\n",
        "\n",
        "By skewed right, we mean that the right tail is long relative to the left tail.\n",
        "\n",
        "\n",
        "The data values are concentrated in the right.\n",
        "\n",
        "\n",
        "So, there is a long tail to the right that is caused by extremely large values which pull the mean upward so that it is greater than the median.\n",
        "\n",
        "\n",
        "So, we have `Mean > Median > Mode`\n",
        "\n",
        "\n",
        "*   **Reference range on skewness values:**\n",
        "\n",
        "\n",
        "\n",
        "```\n",
        "If the skewness is between -0.5 and 0.5, the data are fairly symmetrical.\n",
        "If the skewness is between -1 and – 0.5 or between 0.5 and 1, the data are moderately skewed.\n",
        "If the skewness is less than -1 or greater than 1, the data are highly skewed.\n",
        "```\n",
        "\n",
        "\n"
      ],
      "metadata": {
        "id": "OLEa1W9WDIId"
      }
    },
    {
      "cell_type": "code",
      "source": [
        "#Skew Value of For Sepal Length\n",
        "print ( \"Skew Value of  Length of Flower's Sepal Length is \" , data_01[\"sepal length (cm)\"].skew() )"
      ],
      "metadata": {
        "colab": {
          "base_uri": "https://localhost:8080/"
        },
        "outputId": "98e55f13-7138-43e3-a124-a19bb45dc970",
        "id": "co7AC2WnSoG2"
      },
      "execution_count": 64,
      "outputs": [
        {
          "output_type": "stream",
          "name": "stdout",
          "text": [
            "Skew Value of  Length of Flower's Sepal Length is  0.3149109566369728\n"
          ]
        }
      ]
    },
    {
      "cell_type": "code",
      "source": [
        "#Skew Value of  For Sepal Width\n",
        "print ( \"Skew Value of  Length of Flower's Sepal Width is \" , data_01[\"sepal width (cm)\"].skew() )"
      ],
      "metadata": {
        "colab": {
          "base_uri": "https://localhost:8080/"
        },
        "outputId": "79d22c82-039f-447a-806f-0f5f077befcd",
        "id": "DVKEevHFSoG3"
      },
      "execution_count": 65,
      "outputs": [
        {
          "output_type": "stream",
          "name": "stdout",
          "text": [
            "Skew Value of  Length of Flower's Sepal Width is  0.31896566471359966\n"
          ]
        }
      ]
    },
    {
      "cell_type": "code",
      "source": [
        "#Skew Value of  For Petal Length\n",
        "print ( \"Skew Value of  Length of Flower's Petal Length is \" , data_01[\"petal length (cm)\"].skew() )"
      ],
      "metadata": {
        "colab": {
          "base_uri": "https://localhost:8080/"
        },
        "outputId": "1177f0cf-1880-4b19-9b86-11984027f485",
        "id": "0TbDUOejSoG3"
      },
      "execution_count": 66,
      "outputs": [
        {
          "output_type": "stream",
          "name": "stdout",
          "text": [
            "Skew Value of  Length of Flower's Petal Length is  -0.27488417975101276\n"
          ]
        }
      ]
    },
    {
      "cell_type": "code",
      "source": [
        "#Skew Value of  For Petal Width\n",
        "print ( \"Skew Value of  Length of Flower's Petal Width is \" , data_01[\"petal length (cm)\"].skew() )"
      ],
      "metadata": {
        "colab": {
          "base_uri": "https://localhost:8080/"
        },
        "outputId": "82db99f9-d222-405e-ab0d-438ba31dbf87",
        "id": "m43G0VMwSoG3"
      },
      "execution_count": 67,
      "outputs": [
        {
          "output_type": "stream",
          "name": "stdout",
          "text": [
            "Skew Value of  Length of Flower's Petal Width is  -0.27488417975101276\n"
          ]
        }
      ]
    },
    {
      "cell_type": "markdown",
      "source": [
        "*   **Kurtosis:**\n",
        "\n",
        "Kurtosis is the degree of peakedness of a distribution.\n",
        "\n",
        "\n",
        "Data sets with high kurtosis tend to have a distinct peak near the mean, decline rather rapidly and have heavy tails.\n",
        "\n",
        "\n",
        "Data sets with low kurtosis tend to have a flat top near the mean rather than a sharp peak.\n",
        "\n",
        "\n",
        "*  *Reference range for kurtosis:*\n",
        "\n",
        "\n",
        "The reference standard is a normal distribution, which has a kurtosis of 3.\n",
        "\n",
        "\n",
        "Often, excess kurtosis is presented instead of kurtosis, where excess kurtosis is simply kurtosis - 3\n",
        "\n",
        "\n",
        "*   *Mesokurtic curve:*\n",
        "\n",
        "\n",
        "`A normal distribution has kurtosis exactly 3 (excess kurtosis exactly 0).`\n",
        "\n",
        "\n",
        "Any distribution with kurtosis ≈3 (excess ≈ 0) is called mesokurtic.\n",
        "\n",
        "\n",
        "*  *Platykurtic curve:*\n",
        "\n",
        "\n",
        "`A distribution with kurtosis < 3 (excess kurtosis < 0) is called platykurtic.`\n",
        "\n",
        "\n",
        "As compared to a normal distribution, its central peak is lower and broader, and its tails are shorter and thinner.\n",
        "\n",
        "\n",
        "*  *Leptokurtic curve:*\n",
        "\n",
        "\n",
        "`A distribution with kurtosis > 3 (excess kurtosis > 0) is called leptokurtic.`\n",
        "\n",
        "\n",
        "As compared to a normal distribution, its central peak is higher and sharper, and its tails are longer and fatter."
      ],
      "metadata": {
        "id": "IK62EeC6ILGx"
      }
    },
    {
      "cell_type": "code",
      "source": [
        "#Kurtosis of For Sepal Length\n",
        "print ( \"Kurtosis of  Length of Flower's Sepal Length is \" , data_01[\"sepal length (cm)\"].kurt() )"
      ],
      "metadata": {
        "colab": {
          "base_uri": "https://localhost:8080/"
        },
        "id": "r8J1nXQTS-Qm",
        "outputId": "4aab62cb-3822-42da-9240-904ce0207d53"
      },
      "execution_count": 68,
      "outputs": [
        {
          "output_type": "stream",
          "name": "stdout",
          "text": [
            "Kurtosis of  Length of Flower's Sepal Length is  -0.5520640413156395\n"
          ]
        }
      ]
    },
    {
      "cell_type": "code",
      "source": [
        "#Kurtosis of  For Sepal Width\n",
        "print ( \"Kurtosis of  Length of Flower's Sepal Width is \" , data_01[\"sepal width (cm)\"].kurt() )"
      ],
      "metadata": {
        "colab": {
          "base_uri": "https://localhost:8080/"
        },
        "id": "MH4EcJILS-Qm",
        "outputId": "c9f24e4e-132b-47bd-b671-224d17044b5c"
      },
      "execution_count": 69,
      "outputs": [
        {
          "output_type": "stream",
          "name": "stdout",
          "text": [
            "Kurtosis of  Length of Flower's Sepal Width is  0.2282490424681929\n"
          ]
        }
      ]
    },
    {
      "cell_type": "code",
      "source": [
        "#Kurtosis of  For Petal Length\n",
        "print ( \"Kurtosis of  Length of Flower's Petal Length is \" , data_01[\"petal length (cm)\"].kurt() )"
      ],
      "metadata": {
        "colab": {
          "base_uri": "https://localhost:8080/"
        },
        "id": "30VSNSYRS-Qm",
        "outputId": "69624977-ac94-4a84-f2d5-a82e93c61505"
      },
      "execution_count": 70,
      "outputs": [
        {
          "output_type": "stream",
          "name": "stdout",
          "text": [
            "Kurtosis of  Length of Flower's Petal Length is  -1.4021034155217518\n"
          ]
        }
      ]
    },
    {
      "cell_type": "code",
      "source": [
        "#Kurtosis of  For Petal Width\n",
        "print ( \"Kurtosis of  Length of Flower's Petal Width is \" , data_01[\"petal length (cm)\"].kurt() )"
      ],
      "metadata": {
        "colab": {
          "base_uri": "https://localhost:8080/"
        },
        "id": "KCQPmEI-S-Qm",
        "outputId": "eb579c2f-1c74-4702-a24f-2db19fa41767"
      },
      "execution_count": 71,
      "outputs": [
        {
          "output_type": "stream",
          "name": "stdout",
          "text": [
            "Kurtosis of  Length of Flower's Petal Width is  -1.4021034155217518\n"
          ]
        }
      ]
    }
  ]
}